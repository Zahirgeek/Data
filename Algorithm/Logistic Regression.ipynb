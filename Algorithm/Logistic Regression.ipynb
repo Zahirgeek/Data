{
 "cells": [
  {
   "cell_type": "markdown",
   "metadata": {},
   "source": [
    "Logistic Regression虽然名字里带有“回归”，但是它实际上是一种分类方法，用于二分类问题（即输出只有两种）。首先需要找到一个预测函数（h），也称为Sigmoid函数"
   ]
  },
  {
   "cell_type": "code",
   "execution_count": 2,
   "metadata": {},
   "outputs": [],
   "source": [
    "from sklearn.linear_model import LogisticRegression\n",
    "import numpy as np\n",
    "import sklearn.datasets as datasets"
   ]
  },
  {
   "cell_type": "code",
   "execution_count": 3,
   "metadata": {},
   "outputs": [
    {
     "data": {
      "text/plain": [
       "(150, 4)"
      ]
     },
     "execution_count": 3,
     "metadata": {},
     "output_type": "execute_result"
    }
   ],
   "source": [
    "# 以鸢尾花举例\n",
    "\n",
    "iris = datasets.load_iris()\n",
    "\n",
    "X = iris['data']\n",
    "\n",
    "y = iris['target']\n",
    "\n",
    "X.shape"
   ]
  },
  {
   "cell_type": "code",
   "execution_count": 4,
   "metadata": {},
   "outputs": [],
   "source": [
    "from sklearn.model_selection import train_test_split"
   ]
  },
  {
   "cell_type": "code",
   "execution_count": 6,
   "metadata": {},
   "outputs": [
    {
     "name": "stderr",
     "output_type": "stream",
     "text": [
      "H:\\env\\anaconda3\\lib\\site-packages\\sklearn\\linear_model\\logistic.py:460: FutureWarning: Default multi_class will be changed to 'auto' in 0.22. Specify the multi_class option to silence this warning.\n",
      "  \"this warning.\", FutureWarning)\n"
     ]
    },
    {
     "data": {
      "text/plain": [
       "0.9666666666666667"
      ]
     },
     "execution_count": 6,
     "metadata": {},
     "output_type": "execute_result"
    }
   ],
   "source": [
    "X_train, X_test, y_train, y_test = train_test_split(X, y, test_size=0.2)\n",
    "logistic = LogisticRegression(solver=\"liblinear\")\n",
    "\n",
    "logistic.fit(X_train, y_train)\n",
    "\n",
    "y_ = logistic.predict(X_test)\n",
    "\n",
    "(y_ == y_test).mean()\n",
    "\n",
    "# LogisticRegression(penalty='l2', dual=False, tol=0.0001, C=1.0, fit_intercept=True, intercept_scaling=1, class_weight=None, random_state=None, solver='warn', max_iter=100, multi_class='warn', verbose=0, warm_start=False, n_jobs=None)\n",
    "# penalty 惩罚项（正则化）：l1, l2\n",
    "# tol 误差容忍度\n",
    "# fit_intercept 是否计算截距\n",
    "# C 惩罚系数：值越小正则化越强\n",
    "# solver ：\"liblinear\":小数量级的数据集\n",
    "#          \"lbfgs\",\"sag\"or\"newton-cg\"：大数量级的数据集以及多分类问题\n",
    "#          \"sag\"：极大的数据集"
   ]
  },
  {
   "cell_type": "code",
   "execution_count": 11,
   "metadata": {},
   "outputs": [
    {
     "data": {
      "text/plain": [
       "array([[ 0.38167208,  1.39669072, -2.16632687, -0.97328401],\n",
       "       [ 0.35054786, -1.40206994,  0.50675574, -1.16670306],\n",
       "       [-1.56913074, -1.52634475,  2.31573896,  2.37273607]])"
      ]
     },
     "execution_count": 11,
     "metadata": {},
     "output_type": "execute_result"
    }
   ],
   "source": [
    "# 回归系数\n",
    "w_ = logistic.coef_\n",
    "w_"
   ]
  },
  {
   "cell_type": "code",
   "execution_count": 12,
   "metadata": {},
   "outputs": [
    {
     "data": {
      "text/plain": [
       "array([ 0.25504582,  1.03048209, -1.14168159])"
      ]
     },
     "execution_count": 12,
     "metadata": {},
     "output_type": "execute_result"
    }
   ],
   "source": [
    "# 截距\n",
    "b_ = logistic.intercept_\n",
    "b_"
   ]
  },
  {
   "cell_type": "code",
   "execution_count": 14,
   "metadata": {},
   "outputs": [
    {
     "data": {
      "text/plain": [
       "array([1, 2, 1, 0, 2, 0, 2, 1, 2, 0, 0, 1, 2, 0, 2, 0, 2, 2, 0, 0, 1, 0,\n",
       "       0, 0, 1, 0, 2, 0, 0, 2])"
      ]
     },
     "execution_count": 14,
     "metadata": {},
     "output_type": "execute_result"
    }
   ],
   "source": [
    "logistic.predict(X_test)"
   ]
  },
  {
   "cell_type": "code",
   "execution_count": 13,
   "metadata": {
    "scrolled": true
   },
   "outputs": [
    {
     "data": {
      "text/plain": [
       "array([[5.75810889e-02, 8.08336579e-01, 1.34082332e-01],\n",
       "       [7.78785149e-04, 3.19315660e-01, 6.79905554e-01],\n",
       "       [2.26154852e-02, 6.70775412e-01, 3.06609103e-01],\n",
       "       [8.06182373e-01, 1.93727289e-01, 9.03378491e-05],\n",
       "       [3.51182224e-03, 3.26559148e-01, 6.69929030e-01],\n",
       "       [8.23779593e-01, 1.76199819e-01, 2.05883489e-05],\n",
       "       [7.51364466e-04, 2.10400026e-01, 7.88848609e-01],\n",
       "       [5.53806372e-02, 6.89325123e-01, 2.55294240e-01],\n",
       "       [4.45319540e-04, 1.91048809e-01, 8.08505871e-01],\n",
       "       [9.47659235e-01, 5.23367500e-02, 4.01466605e-06],\n",
       "       [8.46321625e-01, 1.53670731e-01, 7.64436250e-06],\n",
       "       [2.14015191e-02, 8.65777719e-01, 1.12820762e-01],\n",
       "       [2.10321389e-04, 4.26232288e-01, 5.73557391e-01],\n",
       "       [8.71152426e-01, 1.28834916e-01, 1.26579593e-05],\n",
       "       [3.66046150e-04, 2.56663032e-01, 7.42970922e-01],\n",
       "       [7.68363365e-01, 2.31590994e-01, 4.56411812e-05],\n",
       "       [4.97740980e-03, 3.62975365e-01, 6.32047225e-01],\n",
       "       [3.48736272e-04, 3.01776173e-01, 6.97875091e-01],\n",
       "       [7.84552732e-01, 2.15365087e-01, 8.21813463e-05],\n",
       "       [8.37661345e-01, 1.62284280e-01, 5.43746374e-05],\n",
       "       [8.45676929e-04, 5.21852420e-01, 4.77301903e-01],\n",
       "       [8.66426701e-01, 1.33549671e-01, 2.36273863e-05],\n",
       "       [9.19299366e-01, 8.06921886e-02, 8.44532678e-06],\n",
       "       [8.72079491e-01, 1.27908754e-01, 1.17553166e-05],\n",
       "       [1.26640636e-02, 7.53369377e-01, 2.33966560e-01],\n",
       "       [8.54914728e-01, 1.45066921e-01, 1.83505740e-05],\n",
       "       [1.61308387e-03, 2.64911031e-01, 7.33475885e-01],\n",
       "       [9.03244920e-01, 9.67408012e-02, 1.42784520e-05],\n",
       "       [8.33182125e-01, 1.66791381e-01, 2.64930322e-05],\n",
       "       [7.77303944e-04, 1.66397727e-01, 8.32824969e-01]])"
      ]
     },
     "execution_count": 13,
     "metadata": {},
     "output_type": "execute_result"
    }
   ],
   "source": [
    "# X_test各预测值概率\n",
    "# 根据概率大小进行分类\n",
    "logistic.predict_proba(X_test)"
   ]
  },
  {
   "cell_type": "code",
   "execution_count": null,
   "metadata": {},
   "outputs": [],
   "source": []
  }
 ],
 "metadata": {
  "kernelspec": {
   "display_name": "Python 3",
   "language": "python",
   "name": "python3"
  },
  "language_info": {
   "codemirror_mode": {
    "name": "ipython",
    "version": 3
   },
   "file_extension": ".py",
   "mimetype": "text/x-python",
   "name": "python",
   "nbconvert_exporter": "python",
   "pygments_lexer": "ipython3",
   "version": "3.6.5"
  }
 },
 "nbformat": 4,
 "nbformat_minor": 2
}
