{
 "cells": [
  {
   "cell_type": "code",
   "execution_count": 1,
   "metadata": {},
   "outputs": [
    {
     "name": "stderr",
     "output_type": "stream",
     "text": [
      "H:\\env\\anaconda3\\lib\\site-packages\\h5py\\__init__.py:36: FutureWarning: Conversion of the second argument of issubdtype from `float` to `np.floating` is deprecated. In future, it will be treated as `np.float64 == np.dtype(float).type`.\n",
      "  from ._conv import register_converters as _register_converters\n"
     ]
    }
   ],
   "source": [
    "import numpy as np\n",
    "\n",
    "import tensorflow as tf\n",
    "\n",
    "import matplotlib.pyplot as plt\n",
    "%matplotlib inline"
   ]
  },
  {
   "cell_type": "code",
   "execution_count": 3,
   "metadata": {},
   "outputs": [
    {
     "data": {
      "text/plain": [
       "<matplotlib.collections.PathCollection at 0x27afc375c88>"
      ]
     },
     "execution_count": 3,
     "metadata": {},
     "output_type": "execute_result"
    },
    {
     "data": {
      "image/png": "[encoded data removed]",
      "text/plain": [
       "<Figure size 432x288 with 1 Axes>"
      ]
     },
     "metadata": {},
     "output_type": "display_data"
    }
   ],
   "source": [
    "X = np.linspace(0, 12, 20).reshape(-1, 1) + np.random.randn(20, 1)*0.4\n",
    "\n",
    "y = np.linspace(3, 6, 20).reshape(-1, 1) + np.random.randn(20, 1)*0.3\n",
    "\n",
    "plt.scatter(X, y)"
   ]
  },
  {
   "cell_type": "code",
   "execution_count": 5,
   "metadata": {},
   "outputs": [
    {
     "data": {
      "text/plain": [
       "(20, 1)"
      ]
     },
     "execution_count": 5,
     "metadata": {},
     "output_type": "execute_result"
    }
   ],
   "source": [
    "y.shape"
   ]
  },
  {
   "cell_type": "code",
   "execution_count": 6,
   "metadata": {},
   "outputs": [
    {
     "data": {
      "text/plain": [
       "(20, 1)"
      ]
     },
     "execution_count": 6,
     "metadata": {},
     "output_type": "execute_result"
    }
   ],
   "source": [
    "X.shape"
   ]
  },
  {
   "cell_type": "code",
   "execution_count": 12,
   "metadata": {},
   "outputs": [],
   "source": [
    "# f(X) = w*x +b\n",
    "# 占位符\n",
    "X_ = tf.placeholder(dtype=tf.float32, shape=[20, 1])\n",
    "\n",
    "Y_ = tf.placeholder(dtype=tf.float32, shape=[20, 1])\n",
    "\n",
    "W = tf.Variable(initial_value=np.random.randn(1, 1), dtype=tf.float32)\n",
    "\n",
    "b = tf.Variable(initial_value=np.random.normal(size=[1]), dtype=tf.float32)"
   ]
  },
  {
   "cell_type": "code",
   "execution_count": 13,
   "metadata": {},
   "outputs": [],
   "source": [
    "# 写方程\n",
    "\n",
    "pred = tf.matmul(X_, W) + b\n",
    "# pred预测"
   ]
  },
  {
   "cell_type": "code",
   "execution_count": 14,
   "metadata": {},
   "outputs": [],
   "source": [
    "# 损失函数\n",
    "# 20个样本求平均,每一个样本最小二乘法\n",
    "cost = tf.reduce_mean(tf.pow(pred-Y_, 2))"
   ]
  },
  {
   "cell_type": "code",
   "execution_count": 15,
   "metadata": {},
   "outputs": [],
   "source": [
    "# cost值越小,说明pred中W, b越接近\n",
    "# 梯度下降\n",
    "opt = tf.train.GradientDescentOptimizer(0.01)\n",
    "\n",
    "optimizer = opt.minimize(cost)"
   ]
  },
  {
   "cell_type": "code",
   "execution_count": 16,
   "metadata": {
    "collapsed": true
   },
   "outputs": [
    {
     "name": "stdout",
     "output_type": "stream",
     "text": [
      "0 3.8781617\n",
      "10 0.52272904\n",
      "20 0.4758924\n",
      "30 0.4339828\n",
      "40 0.3964818\n",
      "50 0.36292592\n",
      "60 0.33289996\n",
      "70 0.30603248\n",
      "80 0.28199157\n",
      "90 0.26047933\n",
      "100 0.24123022\n",
      "110 0.22400615\n",
      "120 0.2085938\n",
      "130 0.19480298\n",
      "140 0.18246292\n",
      "150 0.1714208\n",
      "160 0.16154039\n",
      "170 0.15269922\n",
      "180 0.14478812\n",
      "190 0.13770922\n",
      "200 0.13137524\n",
      "210 0.12570737\n",
      "220 0.120635726\n",
      "230 0.11609771\n",
      "240 0.11203704\n",
      "250 0.108403504\n",
      "260 0.105152175\n",
      "270 0.1022429\n",
      "280 0.09963969\n",
      "290 0.09731038\n",
      "300 0.09522602\n",
      "310 0.0933609\n",
      "320 0.091692165\n",
      "330 0.0901988\n",
      "340 0.08886253\n",
      "350 0.087666854\n",
      "360 0.08659697\n",
      "370 0.08563967\n",
      "380 0.084783\n",
      "390 0.08401655\n",
      "400 0.08333064\n",
      "410 0.0827169\n",
      "420 0.08216772\n",
      "430 0.0816763\n",
      "440 0.081236616\n",
      "450 0.08084322\n",
      "460 0.08049111\n",
      "470 0.08017615\n",
      "480 0.07989423\n",
      "490 0.079642\n",
      "500 0.07941632\n",
      "510 0.07921438\n",
      "520 0.07903365\n",
      "530 0.07887196\n",
      "540 0.07872729\n",
      "550 0.07859778\n",
      "560 0.07848193\n",
      "570 0.07837831\n",
      "580 0.078285545\n",
      "590 0.07820257\n",
      "600 0.078128256\n",
      "610 0.078061774\n",
      "620 0.07800234\n",
      "630 0.077949174\n",
      "640 0.07790153\n",
      "650 0.07785896\n",
      "660 0.07782079\n",
      "670 0.07778667\n",
      "680 0.07775618\n",
      "690 0.07772889\n",
      "700 0.07770444\n",
      "710 0.07768257\n",
      "720 0.07766302\n",
      "730 0.077645496\n",
      "740 0.077629834\n",
      "750 0.0776158\n",
      "760 0.077603266\n",
      "770 0.07759201\n",
      "780 0.07758199\n",
      "790 0.077572994\n",
      "800 0.077564985\n",
      "810 0.07755772\n",
      "820 0.07755133\n",
      "830 0.07754557\n",
      "840 0.07754038\n",
      "850 0.077535786\n",
      "860 0.07753166\n",
      "870 0.077527985\n",
      "880 0.07752465\n",
      "890 0.07752168\n",
      "900 0.0775191\n",
      "910 0.07751672\n",
      "920 0.07751455\n",
      "930 0.07751266\n",
      "940 0.077510975\n",
      "950 0.07750948\n",
      "960 0.07750809\n",
      "970 0.077506885\n",
      "980 0.07750581\n",
      "990 0.077504806\n",
      "[[0.27170452]] [3.0953965]\n"
     ]
    }
   ],
   "source": [
    "with tf.Session() as sess:\n",
    "    # 初始化, 变量\n",
    "    sess.run(tf.global_variables_initializer())\n",
    "    \n",
    "    for i in range(1000):\n",
    "        optimizer_, cost_  = sess.run(fetches = [optimizer, cost], feed_dict = {X_: X, Y_: y})\n",
    "        if i % 10 == 0:\n",
    "            print(i, cost_)\n",
    "            \n",
    "    w_, b_ = sess.run(fetches=[W, b])\n",
    "    print(w_, b_)"
   ]
  },
  {
   "cell_type": "code",
   "execution_count": 17,
   "metadata": {},
   "outputs": [
    {
     "data": {
      "text/plain": [
       "[<matplotlib.lines.Line2D at 0x27afc608400>]"
      ]
     },
     "execution_count": 17,
     "metadata": {},
     "output_type": "execute_result"
    },
    {
     "data": {
      "image/png": "[encoded data removed]",
      "text/plain": [
       "<Figure size 432x288 with 1 Axes>"
      ]
     },
     "metadata": {},
     "output_type": "display_data"
    }
   ],
   "source": [
    "plt.scatter(X, y)\n",
    "\n",
    "x = np.linspace(0, 12, 100)\n",
    "\n",
    "plt.plot(x, w_[0, 0]*x + b_[0], color='green')"
   ]
  }
 ],
 "metadata": {
  "kernelspec": {
   "display_name": "Python 3",
   "language": "python",
   "name": "python3"
  },
  "language_info": {
   "codemirror_mode": {
    "name": "ipython",
    "version": 3
   },
   "file_extension": ".py",
   "mimetype": "text/x-python",
   "name": "python",
   "nbconvert_exporter": "python",
   "pygments_lexer": "ipython3",
   "version": "3.6.5"
  }
 },
 "nbformat": 4,
 "nbformat_minor": 2
}
